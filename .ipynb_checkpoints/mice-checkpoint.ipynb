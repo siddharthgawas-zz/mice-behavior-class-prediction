{
 "cells": [
  {
   "cell_type": "markdown",
   "metadata": {},
   "source": [
    "# Predicting GenoType based on protein expression using SVM"
   ]
  },
  {
   "cell_type": "code",
   "execution_count": 212,
   "metadata": {
    "collapsed": true
   },
   "outputs": [],
   "source": [
    "import pandas as pd\n",
    "import numpy as  np"
   ]
  },
  {
   "cell_type": "code",
   "execution_count": 213,
   "metadata": {
    "collapsed": true
   },
   "outputs": [],
   "source": [
    "data = pd.read_csv('data.csv')"
   ]
  },
  {
   "cell_type": "code",
   "execution_count": 214,
   "metadata": {},
   "outputs": [
    {
     "data": {
      "text/plain": [
       "Index(['MouseID', 'DYRK1A_N', 'ITSN1_N', 'BDNF_N', 'NR1_N', 'NR2A_N', 'pAKT_N',\n",
       "       'pBRAF_N', 'pCAMKII_N', 'pCREB_N', 'pELK_N', 'pERK_N', 'pJNK_N',\n",
       "       'PKCA_N', 'pMEK_N', 'pNR1_N', 'pNR2A_N', 'pNR2B_N', 'pPKCAB_N',\n",
       "       'pRSK_N', 'AKT_N', 'BRAF_N', 'CAMKII_N', 'CREB_N', 'ELK_N', 'ERK_N',\n",
       "       'GSK3B_N', 'JNK_N', 'MEK_N', 'TRKA_N', 'RSK_N', 'APP_N', 'Bcatenin_N',\n",
       "       'SOD1_N', 'MTOR_N', 'P38_N', 'pMTOR_N', 'DSCR1_N', 'AMPKA_N', 'NR2B_N',\n",
       "       'pNUMB_N', 'RAPTOR_N', 'TIAM1_N', 'pP70S6_N', 'NUMB_N', 'P70S6_N',\n",
       "       'pGSK3B_N', 'pPKCG_N', 'CDK5_N', 'S6_N', 'ADARB1_N', 'AcetylH3K9_N',\n",
       "       'RRP1_N', 'BAX_N', 'ARC_N', 'ERBB4_N', 'nNOS_N', 'Tau_N', 'GFAP_N',\n",
       "       'GluR3_N', 'GluR4_N', 'IL1B_N', 'P3525_N', 'pCASP9_N', 'PSD95_N',\n",
       "       'SNCA_N', 'Ubiquitin_N', 'pGSK3B_Tyr216_N', 'SHH_N', 'BAD_N', 'BCL2_N',\n",
       "       'pS6_N', 'pCFOS_N', 'SYP_N', 'H3AcK18_N', 'EGR1_N', 'H3MeK4_N',\n",
       "       'CaNA_N', 'Genotype', 'Treatment', 'Behavior', 'class'],\n",
       "      dtype='object')"
      ]
     },
     "execution_count": 214,
     "metadata": {},
     "output_type": "execute_result"
    }
   ],
   "source": [
    "data.columns"
   ]
  },
  {
   "cell_type": "code",
   "execution_count": 215,
   "metadata": {
    "collapsed": true
   },
   "outputs": [],
   "source": [
    "data = data.drop(['MouseID','Treatment', 'Behavior', 'Genotype'],axis=1)"
   ]
  },
  {
   "cell_type": "code",
   "execution_count": 216,
   "metadata": {},
   "outputs": [
    {
     "data": {
      "text/plain": [
       "DYRK1A_N             3\n",
       "ITSN1_N              3\n",
       "BDNF_N               3\n",
       "NR1_N                3\n",
       "NR2A_N               3\n",
       "pAKT_N               3\n",
       "pBRAF_N              3\n",
       "pCAMKII_N            3\n",
       "pCREB_N              3\n",
       "pELK_N               3\n",
       "pERK_N               3\n",
       "pJNK_N               3\n",
       "PKCA_N               3\n",
       "pMEK_N               3\n",
       "pNR1_N               3\n",
       "pNR2A_N              3\n",
       "pNR2B_N              3\n",
       "pPKCAB_N             3\n",
       "pRSK_N               3\n",
       "AKT_N                3\n",
       "BRAF_N               3\n",
       "CAMKII_N             3\n",
       "CREB_N               3\n",
       "ELK_N               18\n",
       "ERK_N                3\n",
       "GSK3B_N              3\n",
       "JNK_N                3\n",
       "MEK_N                7\n",
       "TRKA_N               3\n",
       "RSK_N                3\n",
       "                  ... \n",
       "S6_N                 0\n",
       "ADARB1_N             0\n",
       "AcetylH3K9_N         0\n",
       "RRP1_N               0\n",
       "BAX_N                0\n",
       "ARC_N                0\n",
       "ERBB4_N              0\n",
       "nNOS_N               0\n",
       "Tau_N                0\n",
       "GFAP_N               0\n",
       "GluR3_N              0\n",
       "GluR4_N              0\n",
       "IL1B_N               0\n",
       "P3525_N              0\n",
       "pCASP9_N             0\n",
       "PSD95_N              0\n",
       "SNCA_N               0\n",
       "Ubiquitin_N          0\n",
       "pGSK3B_Tyr216_N      0\n",
       "SHH_N                0\n",
       "BAD_N              213\n",
       "BCL2_N             285\n",
       "pS6_N                0\n",
       "pCFOS_N             75\n",
       "SYP_N                0\n",
       "H3AcK18_N          180\n",
       "EGR1_N             210\n",
       "H3MeK4_N           270\n",
       "CaNA_N               0\n",
       "class                0\n",
       "Length: 78, dtype: int64"
      ]
     },
     "execution_count": 216,
     "metadata": {},
     "output_type": "execute_result"
    }
   ],
   "source": [
    "data.isnull().sum()"
   ]
  },
  {
   "cell_type": "code",
   "execution_count": 217,
   "metadata": {},
   "outputs": [
    {
     "name": "stderr",
     "output_type": "stream",
     "text": [
      "/home/sid/anaconda3/envs/tfdeeplearning/lib/python3.5/site-packages/ipykernel_launcher.py:4: SettingWithCopyWarning: \n",
      "A value is trying to be set on a copy of a slice from a DataFrame\n",
      "\n",
      "See the caveats in the documentation: http://pandas.pydata.org/pandas-docs/stable/indexing.html#indexing-view-versus-copy\n",
      "  after removing the cwd from sys.path.\n"
     ]
    }
   ],
   "source": [
    "columns = data.columns\n",
    "X_data = data[columns[:-1]]\n",
    "y_data = data[columns[-1]]\n",
    "X_data.replace('',np.NaN,inplace=True)"
   ]
  },
  {
   "cell_type": "code",
   "execution_count": 218,
   "metadata": {
    "collapsed": true
   },
   "outputs": [],
   "source": [
    "from sklearn.preprocessing import Imputer"
   ]
  },
  {
   "cell_type": "code",
   "execution_count": 219,
   "metadata": {
    "collapsed": true
   },
   "outputs": [],
   "source": [
    "imputer = Imputer()"
   ]
  },
  {
   "cell_type": "code",
   "execution_count": 220,
   "metadata": {},
   "outputs": [
    {
     "data": {
      "text/plain": [
       "Imputer(axis=0, copy=True, missing_values='NaN', strategy='mean', verbose=0)"
      ]
     },
     "execution_count": 220,
     "metadata": {},
     "output_type": "execute_result"
    }
   ],
   "source": [
    "imputer.fit(X_data)"
   ]
  },
  {
   "cell_type": "code",
   "execution_count": 221,
   "metadata": {
    "collapsed": true
   },
   "outputs": [],
   "source": [
    "X_data = pd.DataFrame(columns=X_data.columns,data=imputer.transform(X_data))"
   ]
  },
  {
   "cell_type": "code",
   "execution_count": 222,
   "metadata": {},
   "outputs": [
    {
     "data": {
      "text/plain": [
       "DYRK1A_N           0\n",
       "ITSN1_N            0\n",
       "BDNF_N             0\n",
       "NR1_N              0\n",
       "NR2A_N             0\n",
       "pAKT_N             0\n",
       "pBRAF_N            0\n",
       "pCAMKII_N          0\n",
       "pCREB_N            0\n",
       "pELK_N             0\n",
       "pERK_N             0\n",
       "pJNK_N             0\n",
       "PKCA_N             0\n",
       "pMEK_N             0\n",
       "pNR1_N             0\n",
       "pNR2A_N            0\n",
       "pNR2B_N            0\n",
       "pPKCAB_N           0\n",
       "pRSK_N             0\n",
       "AKT_N              0\n",
       "BRAF_N             0\n",
       "CAMKII_N           0\n",
       "CREB_N             0\n",
       "ELK_N              0\n",
       "ERK_N              0\n",
       "GSK3B_N            0\n",
       "JNK_N              0\n",
       "MEK_N              0\n",
       "TRKA_N             0\n",
       "RSK_N              0\n",
       "                  ..\n",
       "CDK5_N             0\n",
       "S6_N               0\n",
       "ADARB1_N           0\n",
       "AcetylH3K9_N       0\n",
       "RRP1_N             0\n",
       "BAX_N              0\n",
       "ARC_N              0\n",
       "ERBB4_N            0\n",
       "nNOS_N             0\n",
       "Tau_N              0\n",
       "GFAP_N             0\n",
       "GluR3_N            0\n",
       "GluR4_N            0\n",
       "IL1B_N             0\n",
       "P3525_N            0\n",
       "pCASP9_N           0\n",
       "PSD95_N            0\n",
       "SNCA_N             0\n",
       "Ubiquitin_N        0\n",
       "pGSK3B_Tyr216_N    0\n",
       "SHH_N              0\n",
       "BAD_N              0\n",
       "BCL2_N             0\n",
       "pS6_N              0\n",
       "pCFOS_N            0\n",
       "SYP_N              0\n",
       "H3AcK18_N          0\n",
       "EGR1_N             0\n",
       "H3MeK4_N           0\n",
       "CaNA_N             0\n",
       "Length: 77, dtype: int64"
      ]
     },
     "execution_count": 222,
     "metadata": {},
     "output_type": "execute_result"
    }
   ],
   "source": [
    "X_data.isnull().sum()"
   ]
  },
  {
   "cell_type": "code",
   "execution_count": 223,
   "metadata": {},
   "outputs": [],
   "source": [
    "from sklearn.model_selection  import train_test_split"
   ]
  },
  {
   "cell_type": "code",
   "execution_count": 224,
   "metadata": {},
   "outputs": [],
   "source": [
    "X_train, X_test, y_train, y_test = train_test_split( X_data, y_data, test_size=0.2)"
   ]
  },
  {
   "cell_type": "code",
   "execution_count": null,
   "metadata": {},
   "outputs": [],
   "source": []
  },
  {
   "cell_type": "code",
   "execution_count": 225,
   "metadata": {
    "collapsed": true
   },
   "outputs": [],
   "source": [
    "from sklearn.svm import SVC\n",
    "from sklearn.grid_search import RandomizedSearchCV\n",
    "import scipy"
   ]
  },
  {
   "cell_type": "code",
   "execution_count": 226,
   "metadata": {
    "collapsed": true
   },
   "outputs": [],
   "source": [
    "clf  =  SVC()"
   ]
  },
  {
   "cell_type": "code",
   "execution_count": 227,
   "metadata": {},
   "outputs": [],
   "source": [
    "s = RandomizedSearchCV(clf,param_distributions={'C': scipy.stats.expon(scale=100), 'gamma': scipy.stats.expon(scale=.1),\n",
    "  'kernel': ['rbf','linear']},)"
   ]
  },
  {
   "cell_type": "code",
   "execution_count": 228,
   "metadata": {},
   "outputs": [
    {
     "data": {
      "text/plain": [
       "RandomizedSearchCV(cv=None, error_score='raise',\n",
       "          estimator=SVC(C=1.0, cache_size=200, class_weight=None, coef0=0.0,\n",
       "  decision_function_shape='ovr', degree=3, gamma='auto', kernel='rbf',\n",
       "  max_iter=-1, probability=False, random_state=None, shrinking=True,\n",
       "  tol=0.001, verbose=False),\n",
       "          fit_params={}, iid=True, n_iter=10, n_jobs=1,\n",
       "          param_distributions={'C': <scipy.stats._distn_infrastructure.rv_frozen object at 0x7f887f3ddc88>, 'kernel': ['rbf', 'linear'], 'gamma': <scipy.stats._distn_infrastructure.rv_frozen object at 0x7f887f3ddb70>},\n",
       "          pre_dispatch='2*n_jobs', random_state=None, refit=True,\n",
       "          scoring=None, verbose=0)"
      ]
     },
     "execution_count": 228,
     "metadata": {},
     "output_type": "execute_result"
    }
   ],
   "source": [
    "s.fit(X_train,y_train)"
   ]
  },
  {
   "cell_type": "code",
   "execution_count": 229,
   "metadata": {},
   "outputs": [
    {
     "name": "stdout",
     "output_type": "stream",
     "text": [
      "Train score  1.0\n"
     ]
    }
   ],
   "source": [
    "print(\"Train score \",s.score(X_train,y_train))"
   ]
  },
  {
   "cell_type": "code",
   "execution_count": 230,
   "metadata": {},
   "outputs": [
    {
     "name": "stdout",
     "output_type": "stream",
     "text": [
      "Test score  1.0\n"
     ]
    }
   ],
   "source": [
    "print(\"Test score \",s.score(X_test,y_test))"
   ]
  },
  {
   "cell_type": "code",
   "execution_count": 231,
   "metadata": {},
   "outputs": [
    {
     "data": {
      "text/plain": [
       "{'C': 255.46499718570018, 'gamma': 0.039187436315744249, 'kernel': 'rbf'}"
      ]
     },
     "execution_count": 231,
     "metadata": {},
     "output_type": "execute_result"
    }
   ],
   "source": [
    "s.best_params_"
   ]
  },
  {
   "cell_type": "code",
   "execution_count": 232,
   "metadata": {},
   "outputs": [
    {
     "data": {
      "text/plain": [
       "array(['c-CS-m', 't-SC-m', 't-CS-s', 't-CS-m', 'c-CS-s', 't-SC-m',\n",
       "       't-CS-m', 't-SC-m', 'c-SC-s', 't-SC-s'], dtype=object)"
      ]
     },
     "execution_count": 232,
     "metadata": {},
     "output_type": "execute_result"
    }
   ],
   "source": [
    "s.predict(X_test[:10])"
   ]
  },
  {
   "cell_type": "code",
   "execution_count": 233,
   "metadata": {},
   "outputs": [
    {
     "data": {
      "text/plain": [
       "37     c-CS-m\n",
       "793    t-SC-m\n",
       "935    t-CS-s\n",
       "693    t-CS-m\n",
       "391    c-CS-s\n",
       "782    t-SC-m\n",
       "603    t-CS-m\n",
       "786    t-SC-m\n",
       "524    c-SC-s\n",
       "959    t-SC-s\n",
       "Name: class, dtype: object"
      ]
     },
     "execution_count": 233,
     "metadata": {},
     "output_type": "execute_result"
    }
   ],
   "source": [
    "y_test[:10]"
   ]
  },
  {
   "cell_type": "code",
   "execution_count": 267,
   "metadata": {},
   "outputs": [],
   "source": [
    "random_indices = np.random.randint(0,X_plot_data.shape[0],)"
   ]
  },
  {
   "cell_type": "code",
   "execution_count": 268,
   "metadata": {},
   "outputs": [
    {
     "data": {
      "text/plain": [
       "2"
      ]
     },
     "execution_count": 268,
     "metadata": {},
     "output_type": "execute_result"
    }
   ],
   "source": [
    "random_indices"
   ]
  },
  {
   "cell_type": "code",
   "execution_count": null,
   "metadata": {
    "collapsed": true
   },
   "outputs": [],
   "source": []
  },
  {
   "cell_type": "code",
   "execution_count": null,
   "metadata": {
    "collapsed": true
   },
   "outputs": [],
   "source": []
  }
 ],
 "metadata": {
  "kernelspec": {
   "display_name": "Python 3",
   "language": "python",
   "name": "python3"
  },
  "language_info": {
   "codemirror_mode": {
    "name": "ipython",
    "version": 3
   },
   "file_extension": ".py",
   "mimetype": "text/x-python",
   "name": "python",
   "nbconvert_exporter": "python",
   "pygments_lexer": "ipython3",
   "version": "3.5.4"
  }
 },
 "nbformat": 4,
 "nbformat_minor": 2
}
