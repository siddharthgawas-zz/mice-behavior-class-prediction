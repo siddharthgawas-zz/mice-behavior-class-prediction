{
 "cells": [
  {
   "cell_type": "markdown",
   "metadata": {},
   "source": [
    "# Predicting Behavior based on protein expression using SVM"
   ]
  },
  {
   "cell_type": "markdown",
   "metadata": {},
   "source": [
    "Context\n",
    "Expression levels of 77 proteins measured in the cerebral cortex of 8 classes of control and Down syndrome mice exposed to context fear conditioning, a task used to assess associative learning.\n",
    "Content\n",
    "\n",
    "The data set consists of the expression levels of 77 proteins/protein modifications that produced detectable signals in the nuclear fraction of cortex. There are 38 control mice and 34 trisomic mice (Down syndrome), for a total of 72 mice. In the experiments, 15 measurements were registered of each protein per sample/mouse. Therefore, for control mice, there are 38x15, or 570 measurements, and for trisomic mice, there are 34x15, or 510 measurements. The dataset contains a total of 1080 measurements per protein. Each measurement can be considered as an independent sample/mouse.\n",
    "\n",
    "The eight classes of mice are described based on features such as genotype, behavior and treatment. According to genotype, mice can be control or trisomic. According to behavior, some mice have been stimulated to learn (context-shock) and others have not (shock-context) and in order to assess the effect of the drug memantine in recovering the ability to learn in trisomic mice, some mice have been injected with the drug and others have not.\n",
    "\n",
    "Classes:\n",
    "\n",
    "    c-CS-s: control mice, stimulated to learn, injected with saline (9 mice)\n",
    "\n",
    "    c-CS-m: control mice, stimulated to learn, injected with memantine (10 mice)\n",
    "\n",
    "    c-SC-s: control mice, not stimulated to learn, injected with saline (9 mice)\n",
    "\n",
    "    c-SC-m: control mice, not stimulated to learn, injected with memantine (10 mice)\n",
    "\n",
    "    t-CS-s: trisomy mice, stimulated to learn, injected with saline (7 mice)\n",
    "\n",
    "    t-CS-m: trisomy mice, stimulated to learn, injected with memantine (9 mice)\n",
    "\n",
    "    t-SC-s: trisomy mice, not stimulated to learn, injected with saline (9 mice)\n",
    "\n",
    "    t-SC-m: trisomy mice, not stimulated to learn, injected with memantine (9 mice)\n",
    "\n",
    "Attribute Information\n",
    "\n",
    "[1] Mouse ID\n",
    "\n",
    "[2:78] Values of expression levels of 77 proteins; the names of proteins are followed by N indicating that they were measured in the nuclear fraction. *For example: DYRK1A_n*\n",
    "\n",
    "[79] Genotype: control (c) or trisomy (t)\n",
    "\n",
    "[80] Treatment type: memantine (m) or saline (s)\n",
    "\n",
    "[81] Behavior: context-shock (CS) or shock-context (SC)\n",
    "\n",
    "[82] Class: c-CS-s, c-CS-m, c-SC-s, c-SC-m, t-CS-s, t-CS-m, t-SC-s, t-SC-m"
   ]
  },
  {
   "cell_type": "code",
   "execution_count": 179,
   "metadata": {
    "collapsed": true
   },
   "outputs": [],
   "source": [
    "import pandas as pd\n",
    "import numpy as  np"
   ]
  },
  {
   "cell_type": "code",
   "execution_count": 186,
   "metadata": {
    "collapsed": true
   },
   "outputs": [],
   "source": [
    "#reading data from file\n",
    "data = pd.read_csv('data.csv')"
   ]
  },
  {
   "cell_type": "code",
   "execution_count": 187,
   "metadata": {},
   "outputs": [
    {
     "data": {
      "text/plain": [
       "Index(['MouseID', 'DYRK1A_N', 'ITSN1_N', 'BDNF_N', 'NR1_N', 'NR2A_N', 'pAKT_N',\n",
       "       'pBRAF_N', 'pCAMKII_N', 'pCREB_N', 'pELK_N', 'pERK_N', 'pJNK_N',\n",
       "       'PKCA_N', 'pMEK_N', 'pNR1_N', 'pNR2A_N', 'pNR2B_N', 'pPKCAB_N',\n",
       "       'pRSK_N', 'AKT_N', 'BRAF_N', 'CAMKII_N', 'CREB_N', 'ELK_N', 'ERK_N',\n",
       "       'GSK3B_N', 'JNK_N', 'MEK_N', 'TRKA_N', 'RSK_N', 'APP_N', 'Bcatenin_N',\n",
       "       'SOD1_N', 'MTOR_N', 'P38_N', 'pMTOR_N', 'DSCR1_N', 'AMPKA_N', 'NR2B_N',\n",
       "       'pNUMB_N', 'RAPTOR_N', 'TIAM1_N', 'pP70S6_N', 'NUMB_N', 'P70S6_N',\n",
       "       'pGSK3B_N', 'pPKCG_N', 'CDK5_N', 'S6_N', 'ADARB1_N', 'AcetylH3K9_N',\n",
       "       'RRP1_N', 'BAX_N', 'ARC_N', 'ERBB4_N', 'nNOS_N', 'Tau_N', 'GFAP_N',\n",
       "       'GluR3_N', 'GluR4_N', 'IL1B_N', 'P3525_N', 'pCASP9_N', 'PSD95_N',\n",
       "       'SNCA_N', 'Ubiquitin_N', 'pGSK3B_Tyr216_N', 'SHH_N', 'BAD_N', 'BCL2_N',\n",
       "       'pS6_N', 'pCFOS_N', 'SYP_N', 'H3AcK18_N', 'EGR1_N', 'H3MeK4_N',\n",
       "       'CaNA_N', 'Genotype', 'Treatment', 'Behavior', 'class'],\n",
       "      dtype='object')"
      ]
     },
     "execution_count": 187,
     "metadata": {},
     "output_type": "execute_result"
    }
   ],
   "source": [
    "#Display all the columns\n",
    "data.columns"
   ]
  },
  {
   "cell_type": "code",
   "execution_count": 188,
   "metadata": {},
   "outputs": [],
   "source": [
    "#Drop unwanted Columns\n",
    "data = data.drop(['MouseID','Treatment', 'Genotype', 'class'],axis=1)\n",
    "#Drop all the columns which have more than or equal to 10 missing values\n",
    "temp_data = (data.isnull().sum()  < 10)\n",
    "columns_with_missing_lte_10 =[]\n",
    "for i in range(temp_data.shape[0]):\n",
    "    if temp_data.iloc[i] == True:\n",
    "        columns_with_missing_lte_10.append(temp_data.index[i])\n",
    "data = data[columns_with_missing_lte_10]"
   ]
  },
  {
   "cell_type": "code",
   "execution_count": 189,
   "metadata": {},
   "outputs": [
    {
     "data": {
      "text/plain": [
       "Index(['DYRK1A_N', 'ITSN1_N', 'BDNF_N', 'NR1_N', 'NR2A_N', 'pAKT_N', 'pBRAF_N',\n",
       "       'pCAMKII_N', 'pCREB_N', 'pELK_N', 'pERK_N', 'pJNK_N', 'PKCA_N',\n",
       "       'pMEK_N', 'pNR1_N', 'pNR2A_N', 'pNR2B_N', 'pPKCAB_N', 'pRSK_N', 'AKT_N',\n",
       "       'BRAF_N', 'CAMKII_N', 'CREB_N', 'ERK_N', 'GSK3B_N', 'JNK_N', 'MEK_N',\n",
       "       'TRKA_N', 'RSK_N', 'APP_N', 'SOD1_N', 'MTOR_N', 'P38_N', 'pMTOR_N',\n",
       "       'DSCR1_N', 'AMPKA_N', 'NR2B_N', 'pNUMB_N', 'RAPTOR_N', 'TIAM1_N',\n",
       "       'pP70S6_N', 'NUMB_N', 'P70S6_N', 'pGSK3B_N', 'pPKCG_N', 'CDK5_N',\n",
       "       'S6_N', 'ADARB1_N', 'AcetylH3K9_N', 'RRP1_N', 'BAX_N', 'ARC_N',\n",
       "       'ERBB4_N', 'nNOS_N', 'Tau_N', 'GFAP_N', 'GluR3_N', 'GluR4_N', 'IL1B_N',\n",
       "       'P3525_N', 'pCASP9_N', 'PSD95_N', 'SNCA_N', 'Ubiquitin_N',\n",
       "       'pGSK3B_Tyr216_N', 'SHH_N', 'pS6_N', 'SYP_N', 'CaNA_N', 'Behavior'],\n",
       "      dtype='object')"
      ]
     },
     "execution_count": 189,
     "metadata": {},
     "output_type": "execute_result"
    }
   ],
   "source": [
    "data.columns"
   ]
  },
  {
   "cell_type": "code",
   "execution_count": 190,
   "metadata": {},
   "outputs": [
    {
     "name": "stderr",
     "output_type": "stream",
     "text": [
      "/home/sid/anaconda3/envs/tfdeeplearning/lib/python3.5/site-packages/ipykernel_launcher.py:5: SettingWithCopyWarning: \n",
      "A value is trying to be set on a copy of a slice from a DataFrame\n",
      "\n",
      "See the caveats in the documentation: http://pandas.pydata.org/pandas-docs/stable/indexing.html#indexing-view-versus-copy\n",
      "  \"\"\"\n"
     ]
    }
   ],
   "source": [
    "#Replace Blank values with NaN\n",
    "columns = data.columns\n",
    "X_data = data[columns[:-1]]\n",
    "y_data = data[columns[-1]]\n",
    "X_data.replace('',np.NaN,inplace=True)"
   ]
  },
  {
   "cell_type": "code",
   "execution_count": 191,
   "metadata": {
    "collapsed": true
   },
   "outputs": [],
   "source": [
    "#Fill missing values with mean\n",
    "from sklearn.preprocessing import Imputer"
   ]
  },
  {
   "cell_type": "code",
   "execution_count": 192,
   "metadata": {
    "collapsed": true
   },
   "outputs": [],
   "source": [
    "imputer = Imputer()"
   ]
  },
  {
   "cell_type": "code",
   "execution_count": 193,
   "metadata": {},
   "outputs": [
    {
     "data": {
      "text/plain": [
       "Imputer(axis=0, copy=True, missing_values='NaN', strategy='mean', verbose=0)"
      ]
     },
     "execution_count": 193,
     "metadata": {},
     "output_type": "execute_result"
    }
   ],
   "source": [
    "imputer.fit(X_data)"
   ]
  },
  {
   "cell_type": "code",
   "execution_count": 194,
   "metadata": {
    "collapsed": true
   },
   "outputs": [],
   "source": [
    "X_data = pd.DataFrame(columns=X_data.columns,data=imputer.transform(X_data))"
   ]
  },
  {
   "cell_type": "code",
   "execution_count": 195,
   "metadata": {},
   "outputs": [
    {
     "data": {
      "text/plain": [
       "DYRK1A_N           0\n",
       "ITSN1_N            0\n",
       "BDNF_N             0\n",
       "NR1_N              0\n",
       "NR2A_N             0\n",
       "pAKT_N             0\n",
       "pBRAF_N            0\n",
       "pCAMKII_N          0\n",
       "pCREB_N            0\n",
       "pELK_N             0\n",
       "pERK_N             0\n",
       "pJNK_N             0\n",
       "PKCA_N             0\n",
       "pMEK_N             0\n",
       "pNR1_N             0\n",
       "pNR2A_N            0\n",
       "pNR2B_N            0\n",
       "pPKCAB_N           0\n",
       "pRSK_N             0\n",
       "AKT_N              0\n",
       "BRAF_N             0\n",
       "CAMKII_N           0\n",
       "CREB_N             0\n",
       "ERK_N              0\n",
       "GSK3B_N            0\n",
       "JNK_N              0\n",
       "MEK_N              0\n",
       "TRKA_N             0\n",
       "RSK_N              0\n",
       "APP_N              0\n",
       "                  ..\n",
       "TIAM1_N            0\n",
       "pP70S6_N           0\n",
       "NUMB_N             0\n",
       "P70S6_N            0\n",
       "pGSK3B_N           0\n",
       "pPKCG_N            0\n",
       "CDK5_N             0\n",
       "S6_N               0\n",
       "ADARB1_N           0\n",
       "AcetylH3K9_N       0\n",
       "RRP1_N             0\n",
       "BAX_N              0\n",
       "ARC_N              0\n",
       "ERBB4_N            0\n",
       "nNOS_N             0\n",
       "Tau_N              0\n",
       "GFAP_N             0\n",
       "GluR3_N            0\n",
       "GluR4_N            0\n",
       "IL1B_N             0\n",
       "P3525_N            0\n",
       "pCASP9_N           0\n",
       "PSD95_N            0\n",
       "SNCA_N             0\n",
       "Ubiquitin_N        0\n",
       "pGSK3B_Tyr216_N    0\n",
       "SHH_N              0\n",
       "pS6_N              0\n",
       "SYP_N              0\n",
       "CaNA_N             0\n",
       "Length: 69, dtype: int64"
      ]
     },
     "execution_count": 195,
     "metadata": {},
     "output_type": "execute_result"
    }
   ],
   "source": [
    "X_data.isnull().sum()"
   ]
  },
  {
   "cell_type": "code",
   "execution_count": 196,
   "metadata": {
    "collapsed": true
   },
   "outputs": [],
   "source": [
    "#Train and test \n",
    "from sklearn.model_selection  import train_test_split"
   ]
  },
  {
   "cell_type": "code",
   "execution_count": 197,
   "metadata": {
    "collapsed": true
   },
   "outputs": [],
   "source": [
    "X_train, X_test, y_train, y_test = train_test_split( X_data, y_data, test_size=0.2)"
   ]
  },
  {
   "cell_type": "code",
   "execution_count": 198,
   "metadata": {},
   "outputs": [],
   "source": [
    "from sklearn.svm import SVC\n",
    "from sklearn.grid_search import RandomizedSearchCV\n",
    "import scipy"
   ]
  },
  {
   "cell_type": "code",
   "execution_count": 201,
   "metadata": {
    "collapsed": true
   },
   "outputs": [],
   "source": [
    "clf  =  SVC()"
   ]
  },
  {
   "cell_type": "code",
   "execution_count": 204,
   "metadata": {
    "collapsed": true
   },
   "outputs": [],
   "source": [
    "#Randomized Grid Search to optimize hyperparameters\n",
    "s = RandomizedSearchCV(clf,param_distributions={'C': scipy.stats.expon(scale=100), 'gamma': scipy.stats.expon(scale=.1),\n",
    "  'kernel': ['rbf','linear']},)"
   ]
  },
  {
   "cell_type": "code",
   "execution_count": 205,
   "metadata": {},
   "outputs": [
    {
     "data": {
      "text/plain": [
       "RandomizedSearchCV(cv=None, error_score='raise',\n",
       "          estimator=SVC(C=1.0, cache_size=200, class_weight=None, coef0=0.0,\n",
       "  decision_function_shape='ovr', degree=3, gamma='auto', kernel='rbf',\n",
       "  max_iter=-1, probability=False, random_state=None, shrinking=True,\n",
       "  tol=0.001, verbose=False),\n",
       "          fit_params={}, iid=True, n_iter=10, n_jobs=1,\n",
       "          param_distributions={'gamma': <scipy.stats._distn_infrastructure.rv_frozen object at 0x7f4f62d69ba8>, 'kernel': ['rbf', 'linear'], 'C': <scipy.stats._distn_infrastructure.rv_frozen object at 0x7f4f556bbbe0>},\n",
       "          pre_dispatch='2*n_jobs', random_state=None, refit=True,\n",
       "          scoring=None, verbose=0)"
      ]
     },
     "execution_count": 205,
     "metadata": {},
     "output_type": "execute_result"
    }
   ],
   "source": [
    "#Train model\n",
    "s.fit(X_train,y_train)"
   ]
  },
  {
   "cell_type": "code",
   "execution_count": 206,
   "metadata": {},
   "outputs": [
    {
     "name": "stdout",
     "output_type": "stream",
     "text": [
      "Train score  1.0\n"
     ]
    }
   ],
   "source": [
    "#Test Score\n",
    "print(\"Train score \",s.score(X_train,y_train))"
   ]
  },
  {
   "cell_type": "code",
   "execution_count": 207,
   "metadata": {},
   "outputs": [
    {
     "name": "stdout",
     "output_type": "stream",
     "text": [
      "Test score  1.0\n"
     ]
    }
   ],
   "source": [
    "#Train Score\n",
    "print(\"Test score \",s.score(X_test,y_test))"
   ]
  },
  {
   "cell_type": "code",
   "execution_count": 208,
   "metadata": {},
   "outputs": [
    {
     "data": {
      "text/plain": [
       "{'C': 28.968207987811734, 'gamma': 0.057383230603662155, 'kernel': 'linear'}"
      ]
     },
     "execution_count": 208,
     "metadata": {},
     "output_type": "execute_result"
    }
   ],
   "source": [
    "#Best hyperparameters\n",
    "s.best_params_"
   ]
  },
  {
   "cell_type": "code",
   "execution_count": 211,
   "metadata": {},
   "outputs": [
    {
     "data": {
      "text/plain": [
       "array(['C/S', 'S/C', 'C/S', 'S/C', 'S/C', 'S/C', 'S/C', 'S/C', 'S/C', 'C/S'], dtype=object)"
      ]
     },
     "execution_count": 211,
     "metadata": {},
     "output_type": "execute_result"
    }
   ],
   "source": [
    "#Predict first 10 values\n",
    "s.predict(X_test[:10])"
   ]
  },
  {
   "cell_type": "code",
   "execution_count": 212,
   "metadata": {},
   "outputs": [
    {
     "data": {
      "text/plain": [
       "103     C/S\n",
       "267     S/C\n",
       "314     C/S\n",
       "498     S/C\n",
       "495     S/C\n",
       "815     S/C\n",
       "534     S/C\n",
       "1000    S/C\n",
       "1015    S/C\n",
       "144     C/S\n",
       "Name: Behavior, dtype: object"
      ]
     },
     "execution_count": 212,
     "metadata": {},
     "output_type": "execute_result"
    }
   ],
   "source": [
    "#Actual first 10 classes\n",
    "y_test[:10]"
   ]
  },
  {
   "cell_type": "code",
   "execution_count": null,
   "metadata": {
    "collapsed": true
   },
   "outputs": [],
   "source": []
  }
 ],
 "metadata": {
  "kernelspec": {
   "display_name": "Python 3",
   "language": "python",
   "name": "python3"
  },
  "language_info": {
   "codemirror_mode": {
    "name": "ipython",
    "version": 3
   },
   "file_extension": ".py",
   "mimetype": "text/x-python",
   "name": "python",
   "nbconvert_exporter": "python",
   "pygments_lexer": "ipython3",
   "version": "3.5.4"
  }
 },
 "nbformat": 4,
 "nbformat_minor": 2
}
